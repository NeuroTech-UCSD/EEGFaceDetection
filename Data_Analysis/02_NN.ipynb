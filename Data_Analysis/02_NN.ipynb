{
 "cells": [
  {
   "cell_type": "markdown",
   "metadata": {},
   "source": [
    "# Imports"
   ]
  },
  {
   "cell_type": "code",
   "execution_count": 1,
   "metadata": {},
   "outputs": [],
   "source": [
    "from Models import *\n",
    "from torch.utils.data import Dataset, DataLoader\n",
    "from matplotlib import pyplot as plt\n",
    "import random\n",
    "from helperFunctions import *\n",
    "from torch import tensor\n",
    "from tqdm.notebook import tqdm\n",
    "from sklearn.model_selection import train_test_split\n",
    "import random\n",
    "import torch\n",
    "from torch.autograd import Variable\n",
    "import torch.nn.functional as F"
   ]
  },
  {
   "cell_type": "code",
   "execution_count": 2,
   "metadata": {},
   "outputs": [
    {
     "name": "stdout",
     "output_type": "stream",
     "text": [
      "GPU is available\n"
     ]
    }
   ],
   "source": [
    "# If we have a GPU available, we'll set our device to GPU\n",
    "if torch.cuda.is_available():\n",
    "    device = torch.device(\"cuda\")\n",
    "    print(\"GPU is available\")\n",
    "else:\n",
    "    device = torch.device(\"cpu\")\n",
    "    print(\"GPU not available, CPU used\")"
   ]
  },
  {
   "cell_type": "markdown",
   "metadata": {},
   "source": [
    "# Data Pre-Processing"
   ]
  },
  {
   "cell_type": "code",
   "execution_count": 3,
   "metadata": {},
   "outputs": [],
   "source": [
    "# Load XDF Files\n",
    "\n",
    "\"\"\"\n",
    "Files that work\n",
    "part_P001_block_S001.xdf # This does not have the cross hair\n",
    "part_P002_block_S001.xdf # These have cross hairs\n",
    "part_P003_block_S001.xdf \n",
    "\n",
    "These experiments consist of the user looking at faces vs landscape as labeled by the Markers. \n",
    "In the more recent experiments, there are also cross hairs for the subject to fixate on before \n",
    "each new image is shown. \n",
    "\"\"\"\n",
    "filename2 = \"part_P002_block_S001\"\n",
    "XDF_Path2 = \"./data/\"+filename2+\".xdf\"\n",
    "XDF_Data2 = loadxdf(XDF_Path2)\n",
    "\n",
    "filename3 = \"part_P003_block_S001\"\n",
    "XDF_Path3 = \"./data/\"+filename3+\".xdf\"\n",
    "XDF_Data3 = loadxdf(XDF_Path3)\n",
    "\n",
    "filename1 = \"part_P001_block_S001\"\n",
    "XDF_Path1 = \"./data/\"+filename1+\".xdf\"\n",
    "XDF_Data1 = loadxdf(XDF_Path1)"
   ]
  },
  {
   "cell_type": "code",
   "execution_count": 4,
   "metadata": {},
   "outputs": [],
   "source": [
    "first_trial = getMarkerBoundSingleMarkerData('NewImageStart', 'NewImageEnd', XDF_Data1, go_backward=False)\n",
    "second_trial = getMarkerBoundSingleMarkerData('NewImageStart', 'NewImageEnd', XDF_Data2, go_backward=False)\n",
    "third_trial = getMarkerBoundSingleMarkerData('NewImageStart', 'NewImageEnd', XDF_Data3, go_backward=False)"
   ]
  },
  {
   "cell_type": "code",
   "execution_count": 5,
   "metadata": {},
   "outputs": [],
   "source": [
    "def filterDataForPipline(data):\n",
    "    filteredData = []\n",
    "    for i in range(len(data[0])):\n",
    "        filterData = [0, []]\n",
    "        if 'Face' in data[0][i].get('markers').get('data'):\n",
    "            filterData[0] = 1\n",
    "        filterData[1] = data[0][1].get('eeg').get('data')\n",
    "        filteredData.append(filterData)\n",
    "    return filteredData"
   ]
  },
  {
   "cell_type": "code",
   "execution_count": 6,
   "metadata": {},
   "outputs": [],
   "source": [
    "data_1 = filterDataForPipline(first_trial)\n",
    "data_2 = filterDataForPipline(second_trial)\n",
    "data_3 = filterDataForPipline(third_trial)\n",
    "# all_data = (data_1, data_2, data_3)\n",
    "all_data = (data_1, data_2)"
   ]
  },
  {
   "cell_type": "code",
   "execution_count": 7,
   "metadata": {},
   "outputs": [
    {
     "name": "stdout",
     "output_type": "stream",
     "text": [
      "Sequences: 10, Size of first sequence: 232, Size of data per timestamp: 4\n",
      "Sequences: 20, Size of first sequence: 166, Size of data per timestamp: 4\n",
      "Sample row: [0, array([[ -13.502434,   10.158206,  -36.641342,    0.      ],\n",
      "       [  -9.502434,   10.158206,  -36.641342,    0.      ],\n",
      "       [  -9.502434,   10.158206,  -36.641342,    0.      ],\n",
      "       [  -9.502434,   10.158206,  -36.641342,    0.      ],\n",
      "       [  -9.502434,   10.158206,  -36.641342,    0.      ],\n",
      "       [  -9.502434,   10.158206,  -36.641342,    0.      ],\n",
      "       [  -9.502434,   10.158206,  -36.641342,    0.      ],\n",
      "       [  -9.502434,   10.158206,  -36.641342,    0.      ],\n",
      "       [  -6.502434,   10.158206,  -36.641342,    0.      ],\n",
      "       [ 229.49756 ,   -2.841794,  -32.641342,    0.      ],\n",
      "       [ 142.49756 ,   -2.841794,  -32.641342,    0.      ],\n",
      "       [ 142.49756 ,   -2.841794,  -32.641342,    0.      ],\n",
      "       [ 142.49756 ,   -2.841794,  -32.641342,    0.      ],\n",
      "       [ 142.49756 ,   -2.841794,  -32.641342,    0.      ],\n",
      "       [ 142.49756 ,   -2.841794,  -32.641342,    0.      ],\n",
      "       [ 142.49756 ,   -2.841794,  -32.641342,    0.      ],\n",
      "       [ -20.502434,   -2.841794,  -32.641342,    0.      ],\n",
      "       [  87.49757 ,   -2.841794,  -32.641342,    0.      ],\n",
      "       [ -58.502434,   -2.841794,  -32.641342,    0.      ],\n",
      "       [ -58.502434,   -2.841794,  -32.641342,    0.      ],\n",
      "       [ -58.502434,   -2.841794,  -32.641342,    0.      ],\n",
      "       [ -58.502434,   -2.841794,  -32.641342,    0.      ],\n",
      "       [ -58.502434,   -2.841794,  -32.641342,    0.      ],\n",
      "       [ -58.502434,   -2.841794,  -32.641342,    0.      ],\n",
      "       [ -58.502434,   -2.841794,  -32.641342,    0.      ],\n",
      "       [ -58.502434,   -2.841794,  -32.641342,    0.      ],\n",
      "       [-121.50243 ,   -2.841794,  -32.641342,    0.      ],\n",
      "       [-121.50243 ,   -2.841794,  -32.641342,    0.      ],\n",
      "       [-121.50243 ,   -2.841794,  -32.641342,    0.      ],\n",
      "       [-121.50243 ,   -2.841794,  -32.641342,    0.      ],\n",
      "       [-121.50243 ,   -2.841794,  -32.641342,    0.      ],\n",
      "       [-121.50243 ,   -2.841794,  -32.641342,    0.      ],\n",
      "       [-121.50243 ,   -2.841794,  -32.641342,    0.      ],\n",
      "       [-121.50243 ,   -2.841794,  -32.641342,    0.      ],\n",
      "       [  67.49757 ,   -2.841794,  -32.641342,    0.      ],\n",
      "       [  67.49757 ,   -2.841794,  -32.641342,    0.      ],\n",
      "       [  67.49757 ,   -2.841794,  -32.641342,    0.      ],\n",
      "       [  78.49757 ,   -2.841794,  -32.641342,    0.      ],\n",
      "       [  16.497566,   -2.841794,  -32.641342,    0.      ],\n",
      "       [  16.497566,   -2.841794,  -32.641342,    0.      ],\n",
      "       [  16.497566,   -2.841794,  -32.641342,    0.      ],\n",
      "       [  16.497566,   -2.841794,  -32.641342,    0.      ],\n",
      "       [  16.497566,   -2.841794,  -32.641342,    0.      ],\n",
      "       [  18.497566,   -2.841794,  -32.641342,    0.      ],\n",
      "       [  46.497566,   -2.841794,  -32.641342,    0.      ],\n",
      "       [-100.50243 ,   -2.841794,  -32.641342,    0.      ],\n",
      "       [-100.50243 ,   -2.841794,  -32.641342,    0.      ],\n",
      "       [-100.50243 ,   -2.841794,  -32.641342,    0.      ],\n",
      "       [-100.50243 ,   -2.841794,  -32.641342,    0.      ],\n",
      "       [-100.50243 ,   -2.841794,  -32.641342,    0.      ],\n",
      "       [-107.50243 ,   -2.841794,  -32.641342,    0.      ],\n",
      "       [  58.497566,   -2.841794,  -32.641342,    0.      ],\n",
      "       [ -47.502434,   -2.841794,  -32.641342,    0.      ],\n",
      "       [ -79.50243 ,   -2.841794,  -32.641342,    0.      ],\n",
      "       [ -79.50243 ,   -2.841794,  -32.641342,    0.      ],\n",
      "       [ -79.50243 ,   -2.841794,  -32.641342,    0.      ],\n",
      "       [ -79.50243 ,   -2.841794,  -32.641342,    0.      ],\n",
      "       [-119.50243 ,   -2.841794,  -32.641342,    0.      ],\n",
      "       [  96.49757 ,   -2.841794,  -32.641342,    0.      ],\n",
      "       [  17.497566,   -2.841794,  -32.641342,    0.      ],\n",
      "       [  17.497566,   -2.841794,  -32.641342,    0.      ],\n",
      "       [  17.497566,   -2.841794,  -32.641342,    0.      ],\n",
      "       [  17.497566,   -2.841794,  -32.641342,    0.      ],\n",
      "       [  17.497566,   -2.841794,  -32.641342,    0.      ],\n",
      "       [  17.497566,   -2.841794,  -32.641342,    0.      ],\n",
      "       [  17.497566,   -2.841794,  -32.641342,    0.      ],\n",
      "       [  17.497566,   -2.841794,  -32.641342,    0.      ],\n",
      "       [ -34.502434,   -2.841794,  -32.641342,    0.      ],\n",
      "       [ -57.502434,   -2.841794,  -32.641342,    0.      ],\n",
      "       [ -57.502434,   -2.841794,  -32.641342,    0.      ],\n",
      "       [ -57.502434,   -2.841794,  -32.641342,    0.      ],\n",
      "       [ 103.49757 ,   -2.841794,  -32.641342,    0.      ],\n",
      "       [  21.497566,   -2.841794,  -32.641342,    0.      ],\n",
      "       [ -79.50243 ,   -2.841794,  -32.641342,    0.      ],\n",
      "       [ -79.50243 ,   -2.841794,  -32.641342,    0.      ],\n",
      "       [ -79.50243 ,   -2.841794,  -32.641342,    0.      ],\n",
      "       [ -79.50243 ,   -2.841794,  -32.641342,    0.      ],\n",
      "       [ -79.50243 ,   -2.841794,  -32.641342,    0.      ],\n",
      "       [-106.50243 ,   -2.841794,  -32.641342,    0.      ],\n",
      "       [  23.497566,   -2.841794,  -32.641342,    0.      ],\n",
      "       [   8.497566,   -2.841794,  -32.641342,    0.      ],\n",
      "       [   8.497566,   -2.841794,  -32.641342,    0.      ],\n",
      "       [   8.497566,   -2.841794,  -32.641342,    0.      ],\n",
      "       [   8.497566,   -2.841794,  -32.641342,    0.      ],\n",
      "       [   8.497566,   -2.841794,  -32.641342,    0.      ],\n",
      "       [  99.49757 ,   -2.841794,  -32.641342,    0.      ],\n",
      "       [  35.497566,   -2.841794,  -32.641342,    0.      ],\n",
      "       [   5.497566,   -2.841794,  -32.641342,    0.      ],\n",
      "       [   5.497566,   -2.841794,  -32.641342,    0.      ],\n",
      "       [   5.497566,   -2.841794,  -32.641342,    0.      ],\n",
      "       [   5.497566,   -2.841794,  -32.641342,    0.      ],\n",
      "       [   5.497566,   -2.841794,  -32.641342,    0.      ],\n",
      "       [ -39.502434,   -2.841794,  -32.641342,    0.      ],\n",
      "       [  88.49757 ,   -2.841794,  -32.641342,    0.      ],\n",
      "       [  88.49757 ,   -2.841794,  -32.641342,    0.      ],\n",
      "       [  88.49757 ,   -2.841794,  -32.641342,    0.      ],\n",
      "       [  88.49757 ,   -2.841794,  -32.641342,    0.      ],\n",
      "       [  88.49757 ,   -2.841794,  -32.641342,    0.      ],\n",
      "       [  88.49757 ,   -2.841794,  -32.641342,    0.      ],\n",
      "       [  88.49757 ,   -2.841794,  -32.641342,    0.      ],\n",
      "       [  88.49757 ,   -2.841794,  -32.641342,    0.      ],\n",
      "       [  88.49757 ,   -2.841794,  -32.641342,    0.      ],\n",
      "       [  59.497566,   -2.841794,  -32.641342,    0.      ],\n",
      "       [  56.497566,   -2.841794,  -32.641342,    0.      ],\n",
      "       [  56.497566,   -2.841794,  -32.641342,    0.      ],\n",
      "       [  56.497566,   -2.841794,  -32.641342,    0.      ],\n",
      "       [  56.497566,   -2.841794,  -32.641342,    0.      ],\n",
      "       [  56.497566,   -2.841794,  -32.641342,    0.      ],\n",
      "       [  56.497566,   -2.841794,  -32.641342,    0.      ],\n",
      "       [  56.497566,   -2.841794,  -32.641342,    0.      ],\n",
      "       [ 119.49757 ,   -2.841794,  -32.641342,    0.      ],\n",
      "       [ 106.49757 ,   -2.841794,  -32.641342,    0.      ],\n",
      "       [  42.497566,   -2.841794,  -32.641342,    0.      ],\n",
      "       [ -50.502434,   -2.841794,  -31.641342,    0.      ],\n",
      "       [-148.50244 ,   -2.841794,  -31.641342,    0.      ],\n",
      "       [-148.50244 ,   -2.841794,  -31.641342,    0.      ],\n",
      "       [-148.50244 ,   -2.841794,  -31.641342,    0.      ],\n",
      "       [-148.50244 ,   -2.841794,  -31.641342,    0.      ],\n",
      "       [-148.50244 ,   -2.841794,  -31.641342,    0.      ],\n",
      "       [  18.497566,   -2.841794,  -31.641342,    0.      ],\n",
      "       [  36.497566,   -2.841794,  -31.641342,    0.      ],\n",
      "       [   4.497566,   -2.841794,  -31.641342,    0.      ],\n",
      "       [   4.497566,   -2.841794,  -31.641342,    0.      ],\n",
      "       [   4.497566,   -2.841794,  -31.641342,    0.      ],\n",
      "       [   4.497566,   -2.841794,  -31.641342,    0.      ],\n",
      "       [   4.497566,   -2.841794,  -31.641342,    0.      ],\n",
      "       [ -36.502434,   -2.841794,  -31.641342,    0.      ],\n",
      "       [  96.49757 ,   -2.841794,  -31.641342,    0.      ],\n",
      "       [ 101.49757 ,   -2.841794,  -31.641342,    0.      ],\n",
      "       [ 101.49757 ,   -2.841794,  -31.641342,    0.      ],\n",
      "       [ 101.49757 ,   -2.841794,  -31.641342,    0.      ],\n",
      "       [ 101.49757 ,   -2.841794,  -31.641342,    0.      ],\n",
      "       [ 101.49757 ,   -2.841794,  -31.641342,    0.      ],\n",
      "       [ 101.49757 ,   -2.841794,  -31.641342,    0.      ],\n",
      "       [ 101.49757 ,   -2.841794,  -31.641342,    0.      ],\n",
      "       [  66.49757 ,   -2.841794,  -31.641342,    0.      ],\n",
      "       [  67.49757 ,   -2.841794,  -31.641342,    0.      ],\n",
      "       [  67.49757 ,   -2.841794,  -31.641342,    0.      ],\n",
      "       [  67.49757 ,   -2.841794,  -31.641342,    0.      ],\n",
      "       [  64.49757 ,   -2.841794,  -31.641342,    0.      ],\n",
      "       [  94.49757 ,   -2.841794,  -31.641342,    0.      ],\n",
      "       [ -78.50243 ,   -2.841794,  -31.641342,    0.      ],\n",
      "       [ -78.50243 ,   -2.841794,  -31.641342,    0.      ],\n",
      "       [ -78.50243 ,   -2.841794,  -31.641342,    0.      ],\n",
      "       [ -78.50243 ,   -2.841794,  -31.641342,    0.      ],\n",
      "       [ -78.50243 ,   -2.841794,  -31.641342,    0.      ],\n",
      "       [-114.50243 ,   -2.841794,  -31.641342,    0.      ],\n",
      "       [ 100.49757 ,   -2.841794,  -31.641342,    0.      ],\n",
      "       [ -30.502434,   -2.841794,  -31.641342,    0.      ],\n",
      "       [ -30.502434,   -2.841794,  -31.641342,    0.      ],\n",
      "       [ -30.502434,   -2.841794,  -31.641342,    0.      ],\n",
      "       [ -30.502434,   -2.841794,  -31.641342,    0.      ],\n",
      "       [ -62.502434,   -2.841794,  -31.641342,    0.      ],\n",
      "       [ -25.502434,   -2.841794,  -31.641342,    0.      ],\n",
      "       [ -47.502434,   -2.841794,  -31.641342,    0.      ],\n",
      "       [ -91.50243 ,   -2.841794,  -31.641342,    0.      ],\n",
      "       [ -91.50243 ,   -2.841794,  -31.641342,    0.      ],\n",
      "       [ -91.50243 ,   -2.841794,  -31.641342,    0.      ]],\n",
      "      dtype=float32)]\n"
     ]
    }
   ],
   "source": [
    "for d in all_data:\n",
    "    print('Sequences: %d, Size of first sequence: %d, Size of data per timestamp: %d' % (len(d), len(d[0][1]), len(d[0][1][0])))\n",
    "print('Sample row:', data_3[3])"
   ]
  },
  {
   "cell_type": "code",
   "execution_count": 8,
   "metadata": {},
   "outputs": [],
   "source": [
    "labels = list()\n",
    "data = list()\n",
    "\n",
    "for d in all_data:\n",
    "    sample_data = list()\n",
    "    for l, s in d:\n",
    "        labels.append(l)\n",
    "        data.append(np.array(s))"
   ]
  },
  {
   "cell_type": "code",
   "execution_count": 9,
   "metadata": {},
   "outputs": [],
   "source": [
    "class EEGDataset(Dataset):\n",
    "    def __init__(self, labels, data, dims, device):\n",
    "        self.labels = np.array(labels)\n",
    "        self.data = data\n",
    "        self.dims = dims\n",
    "        self.device = device\n",
    "\n",
    "    def __len__(self):\n",
    "        return len(self.data)\n",
    "\n",
    "    def __getitem__(self, idx):\n",
    "#         if torch.is_tensor(idx):\n",
    "#             idx = idx.tolist()\n",
    "        \n",
    "        sample = dict()\n",
    "        l = tensor(self.labels[idx]).to(self.device)\n",
    "        # Get only the columns of the data we need\n",
    "        d = tensor(self.data[idx][ : , self.dims]).to(self.device)\n",
    "        \n",
    "        return (l, d)"
   ]
  },
  {
   "cell_type": "code",
   "execution_count": null,
   "metadata": {},
   "outputs": [],
   "source": [
    "batch_size = 5"
   ]
  },
  {
   "cell_type": "code",
   "execution_count": 10,
   "metadata": {
    "scrolled": true
   },
   "outputs": [
    {
     "name": "stdout",
     "output_type": "stream",
     "text": [
      "0 torch.Size([]) torch.Size([232])\n",
      "1 torch.Size([]) torch.Size([232])\n",
      "2 torch.Size([]) torch.Size([232])\n",
      "3 torch.Size([]) torch.Size([232])\n",
      "4 torch.Size([]) torch.Size([232])\n",
      "5 torch.Size([]) torch.Size([232])\n"
     ]
    }
   ],
   "source": [
    "dataset = EEGDataset(labels=labels, data=data, dims=0, device=device)\n",
    "\n",
    "for i in range(len(dataset)):\n",
    "    l, d = dataset[i]\n",
    "    print(i, l.size(), d.size())\n",
    "    \n",
    "    if(i == 5):\n",
    "        break"
   ]
  },
  {
   "cell_type": "code",
   "execution_count": 11,
   "metadata": {},
   "outputs": [],
   "source": [
    "train_frac = 0.99\n",
    "train_data, test_data, train_labels, test_labels = train_test_split(data, labels, train_size=train_frac)\n",
    "train_dataset = EEGDataset(data=train_data, labels=train_labels, dims=0, device=device)\n",
    "test_dataset = EEGDataset(data=test_data, labels=test_labels, dims=0, device=device)\n",
    "train_dataloader = DataLoader(train_dataset, batch_size=1, shuffle=True)\n",
    "test_dataloader = DataLoader(test_dataset, batch_size=1, shuffle=True)"
   ]
  },
  {
   "cell_type": "markdown",
   "metadata": {},
   "source": [
    "# Setting Up NN Models"
   ]
  },
  {
   "cell_type": "code",
   "execution_count": 12,
   "metadata": {},
   "outputs": [],
   "source": [
    "def repackage_hidden(h):\n",
    "    \"\"\"Wraps hidden states in new Variables, to detach them from their history.\"\"\"\n",
    "    if type(h) == Variable:\n",
    "        return Variable(h.data)\n",
    "    else:\n",
    "        return tuple(repackage_hidden(v) for v in h)"
   ]
  },
  {
   "cell_type": "code",
   "execution_count": 13,
   "metadata": {},
   "outputs": [],
   "source": [
    "max_length = 0\n",
    "min_length = 500\n",
    "for l, d in train_dataloader:\n",
    "    if d.size()[1] > max_length:\n",
    "        max_length = d.size()[1]\n",
    "    if d.size()[1] < min_length:\n",
    "        min_length = d.size()[1]"
   ]
  },
  {
   "cell_type": "code",
   "execution_count": 14,
   "metadata": {},
   "outputs": [
    {
     "data": {
      "text/plain": [
       "(166, 232)"
      ]
     },
     "execution_count": 14,
     "metadata": {},
     "output_type": "execute_result"
    }
   ],
   "source": [
    "min_length, max_length"
   ]
  },
  {
   "cell_type": "code",
   "execution_count": 15,
   "metadata": {},
   "outputs": [],
   "source": [
    "hidden_dim = 50\n",
    "epochs = 100\n",
    "lr = 0.1\n",
    "input_size = 1\n",
    "sequence_length = min_length"
   ]
  },
  {
   "cell_type": "code",
   "execution_count": 16,
   "metadata": {},
   "outputs": [],
   "source": [
    "lstm = LSTM_Model(input_dim=input_size, hidden_dim=hidden_dim, num_classes=2, batch_size=batch_size, computing_device=device).to(device)\n",
    "optimizer = optim.Adam(lstm.parameters(), lr=lr)\n",
    "criterion = nn.CrossEntropyLoss()"
   ]
  },
  {
   "cell_type": "markdown",
   "metadata": {},
   "source": [
    "# Train NN Models"
   ]
  },
  {
   "cell_type": "code",
   "execution_count": 17,
   "metadata": {
    "scrolled": true
   },
   "outputs": [
    {
     "data": {
      "application/vnd.jupyter.widget-view+json": {
       "model_id": "30d5d69a2cfd452cb1e86b159efffcb4",
       "version_major": 2,
       "version_minor": 0
      },
      "text/plain": [
       "HBox(children=(FloatProgress(value=0.0, description='Epoch', style=ProgressStyle(description_width='initial'))…"
      ]
     },
     "metadata": {},
     "output_type": "display_data"
    },
    {
     "name": "stdout",
     "output_type": "stream",
     "text": [
      "\n"
     ]
    }
   ],
   "source": [
    "train_losses = list()\n",
    "lstm.init_hidden()\n",
    "\n",
    "for epoch in tqdm(range(epochs), desc='Epoch'):\n",
    "    random.shuffle(train_data)\n",
    "    \n",
    "    sum_loss = 0.0\n",
    "    num_samp = 0\n",
    "    \n",
    "    for label, data in train_dataloader:\n",
    "        lstm.hidden = (lstm.hidden[0].detach(), lstm.hidden[1].detach())\n",
    "        label = label.long()\n",
    "        data_len = data.size()[1]\n",
    "        data = \n",
    "        data = data.reshape(-1, data_len, input_size).to(device)\n",
    "        output = lstm(data)\n",
    "        loss = criterion(output, label)\n",
    "        optimizer.zero_grad()\n",
    "        loss.backward()\n",
    "        optimizer.step()\n",
    "        \n",
    "        sum_loss += loss.item()\n",
    "        num_samp += 1\n",
    "    \n",
    "    train_losses.append(sum_loss / num_samp)"
   ]
  },
  {
   "cell_type": "code",
   "execution_count": 18,
   "metadata": {},
   "outputs": [
    {
     "name": "stdout",
     "output_type": "stream",
     "text": [
      "1.622643111080959 2.2722977667019286\n"
     ]
    }
   ],
   "source": [
    "print(train_losses[0], train_losses[-1])"
   ]
  },
  {
   "cell_type": "code",
   "execution_count": 19,
   "metadata": {},
   "outputs": [
    {
     "data": {
      "image/png": "[encoded data removed]",
      "text/plain": [
       "<Figure size 432x288 with 1 Axes>"
      ]
     },
     "metadata": {
      "needs_background": "light"
     },
     "output_type": "display_data"
    }
   ],
   "source": [
    "plt.plot(train_losses)\n",
    "plt.show()"
   ]
  },
  {
   "cell_type": "code",
   "execution_count": 20,
   "metadata": {},
   "outputs": [
    {
     "name": "stdout",
     "output_type": "stream",
     "text": [
      "0.5172413793103449\n"
     ]
    }
   ],
   "source": [
    "with torch.no_grad():\n",
    "    accuracy = 0\n",
    "    num_samp = 0\n",
    "    \n",
    "    for label, data in train_dataloader:\n",
    "        lstm.hidden = (lstm.hidden[0].detach(), lstm.hidden[1].detach())\n",
    "        label = label.long()\n",
    "        data_len = data.size()[1]\n",
    "        data = data.reshape(-1, data_len, input_size).to(device)\n",
    "        output = torch.sigmoid(lstm(data)).tolist()[0]\n",
    "        \n",
    "        if output[0] > output[1]:\n",
    "            result = 0\n",
    "        else:\n",
    "            result = 1\n",
    "        accuracy += 1 if result == label else 0\n",
    "        num_samp += 1\n",
    "    \n",
    "    print(accuracy / num_samp)\n"
   ]
  },
  {
   "cell_type": "code",
   "execution_count": null,
   "metadata": {},
   "outputs": [],
   "source": []
  },
  {
   "cell_type": "code",
   "execution_count": null,
   "metadata": {},
   "outputs": [],
   "source": []
  }
 ],
 "metadata": {
  "kernelspec": {
   "display_name": "Python 3",
   "language": "python",
   "name": "python3"
  },
  "language_info": {
   "codemirror_mode": {
    "name": "ipython",
    "version": 3
   },
   "file_extension": ".py",
   "mimetype": "text/x-python",
   "name": "python",
   "nbconvert_exporter": "python",
   "pygments_lexer": "ipython3",
   "version": "3.6.8"
  }
 },
 "nbformat": 4,
 "nbformat_minor": 4
}
