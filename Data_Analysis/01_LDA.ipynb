{
 "cells": [
  {
   "cell_type": "code",
   "execution_count": 43,
   "metadata": {},
   "outputs": [],
   "source": [
    "from helperFunctions import *\n",
    "from constants import *"
   ]
  },
  {
   "cell_type": "code",
   "execution_count": 44,
   "metadata": {},
   "outputs": [],
   "source": [
    "from sklearn.discriminant_analysis import LinearDiscriminantAnalysis\n",
    "from sklearn.model_selection import train_test_split\n",
    "import numpy"
   ]
  },
  {
   "cell_type": "code",
   "execution_count": 45,
   "metadata": {},
   "outputs": [],
   "source": [
    "from filterDataScript import *"
   ]
  },
  {
   "cell_type": "code",
   "execution_count": 73,
   "metadata": {},
   "outputs": [],
   "source": [
    "# filename2 = \"part_P002_block_S001\"\n",
    "# XDF_Path2 = \"./data/\"+filename2+\".xdf\"\n",
    "# XDF_Data2 = loadxdf(XDF_Path2)\n",
    "\n",
    "# filename3 = \"part_P003_block_S001\"\n",
    "# XDF_Path3 = \"./data/\"+filename3+\".xdf\"\n",
    "# XDF_Data3 = loadxdf(XDF_Path3)\n",
    "\n",
    "filename1 = \"part_P001_block_S002\"\n",
    "XDF_Path1 = \"./data/\"+filename1+\".xdf\"\n",
    "XDF_Data1 = loadxdf(XDF_Path1)\n",
    "\n",
    "filename2 = \"part_P001_block_S003\"\n",
    "XDF_Path2 = \"./data/\"+filename1+\".xdf\"\n",
    "XDF_Data2 = loadxdf(XDF_Path1)"
   ]
  },
  {
   "cell_type": "code",
   "execution_count": 76,
   "metadata": {},
   "outputs": [],
   "source": [
    "trial1 = filterDataForPipline(XDF_Data1)\n",
    "trial2 = filterDataForPipline(XDF_Data2)\n",
    "# trial2 = filterDataForPipline(XDF_Data2)\n",
    "# trial3 = filterDataForPipline(XDF_Data3)\n"
   ]
  },
  {
   "cell_type": "code",
   "execution_count": 77,
   "metadata": {},
   "outputs": [],
   "source": [
    "model = LinearDiscriminantAnalysis()"
   ]
  },
  {
   "cell_type": "code",
   "execution_count": null,
   "metadata": {},
   "outputs": [],
   "source": [
    "#NO FREQUENCY/POWER BINS:"
   ]
  },
  {
   "cell_type": "code",
   "execution_count": 78,
   "metadata": {},
   "outputs": [],
   "source": [
    "XTrial1 = []\n",
    "YTrial1 = []\n",
    "for i in trial1:\n",
    "    XTrial1.append(i[1])\n",
    "    YTrial1.append(i[0])\n",
    "\n",
    "XTrial2 = []\n",
    "YTrial2 = []\n",
    "for i in trial2:\n",
    "    XTrial2.append(i[1])\n",
    "    YTrial2.append(i[0])\n",
    "\n",
    "# XTrial3 = []\n",
    "# YTrial3 = []\n",
    "# for i in trial3:\n",
    "#     XTrial3.append(i[1])\n",
    "#     YTrial3.append(i[0])"
   ]
  },
  {
   "cell_type": "code",
   "execution_count": 79,
   "metadata": {},
   "outputs": [],
   "source": [
    "XTrial1Avg = []\n",
    "for i in range(len(XTrial1)):\n",
    "    XTrial1Avg.append(np.mean(XTrial1[i], axis = 0))\n",
    "\n",
    "XTrial2Avg = []\n",
    "for i in range(len(XTrial2)):\n",
    "    XTrial2Avg.append(np.mean(XTrial2[i], axis = 0))\n",
    "\n",
    "\n",
    "# XTrial3Avg = []\n",
    "# for i in range(len(XTrial3)):\n",
    "#     XTrial3Avg.append(np.mean(XTrial3[i], axis = 0))"
   ]
  },
  {
   "cell_type": "code",
   "execution_count": 83,
   "metadata": {},
   "outputs": [],
   "source": [
    "XVarsAvg = XTrial1Avg + XTrial2Avg\n",
    "yVarsAvg = YTrial1 + YTrial2"
   ]
  },
  {
   "cell_type": "code",
   "execution_count": 86,
   "metadata": {},
   "outputs": [],
   "source": [
    "XTrain, Xtest, ytrain, ytest = train_test_split(XVarsAvg, yVarsAvg, test_size=0.25, random_state=42)"
   ]
  },
  {
   "cell_type": "code",
   "execution_count": 87,
   "metadata": {},
   "outputs": [
    {
     "name": "stderr",
     "output_type": "stream",
     "text": [
      "/Users/Alvin/anaconda3/lib/python3.7/site-packages/sklearn/discriminant_analysis.py:388: UserWarning: Variables are collinear.\n",
      "  warnings.warn(\"Variables are collinear.\")\n"
     ]
    },
    {
     "data": {
      "text/plain": [
       "LinearDiscriminantAnalysis(n_components=None, priors=None, shrinkage=None,\n",
       "              solver='svd', store_covariance=False, tol=0.0001)"
      ]
     },
     "execution_count": 87,
     "metadata": {},
     "output_type": "execute_result"
    }
   ],
   "source": [
    "model.fit(XTrain, ytrain)"
   ]
  },
  {
   "cell_type": "code",
   "execution_count": 88,
   "metadata": {},
   "outputs": [],
   "source": [
    "YPred= model.predict(Xtest)"
   ]
  },
  {
   "cell_type": "code",
   "execution_count": 91,
   "metadata": {},
   "outputs": [],
   "source": [
    "from sklearn.metrics import accuracy_score"
   ]
  },
  {
   "cell_type": "code",
   "execution_count": 92,
   "metadata": {},
   "outputs": [
    {
     "data": {
      "text/plain": [
       "0.5"
      ]
     },
     "execution_count": 92,
     "metadata": {},
     "output_type": "execute_result"
    }
   ],
   "source": [
    "accuracy_score(ytest, YPred)"
   ]
  },
  {
   "cell_type": "code",
   "execution_count": null,
   "metadata": {},
   "outputs": [],
   "source": [
    "#POWER BINS"
   ]
  },
  {
   "cell_type": "code",
   "execution_count": 93,
   "metadata": {},
   "outputs": [],
   "source": [
    "import pyeeg"
   ]
  },
  {
   "cell_type": "code",
   "execution_count": 94,
   "metadata": {},
   "outputs": [],
   "source": [
    "def getPowerRatio(eeg_data, binning, eeg_fs=250):\n",
    "    power, power_ratio = pyeeg.bin_power(eeg_data, binning, eeg_fs)\n",
    "    return np.array(power_ratio)"
   ]
  },
  {
   "cell_type": "code",
   "execution_count": 95,
   "metadata": {},
   "outputs": [],
   "source": [
    "def getIntervals(binning): \n",
    "    intervals = list()\n",
    "    for i, val in enumerate(binning[:-1]): \n",
    "        intervals.append((val, binning[i+1]))\n",
    "    return intervals"
   ]
  },
  {
   "cell_type": "code",
   "execution_count": 96,
   "metadata": {},
   "outputs": [],
   "source": [
    "def getEEGDataInMicroVolts(original_data):\n",
    "    eeg_data = original_data[StreamType.EEG.value][StreamType.DATA.value][:,0]\n",
    "    return getFilteredEEGDataInMicroVolts_fromEEGList(eeg_data)"
   ]
  },
  {
   "cell_type": "code",
   "execution_count": 97,
   "metadata": {},
   "outputs": [],
   "source": [
    "\n",
    "def convertRawToMicroVolts(raw_values):\n",
    "    # http://support.neurosky.com/kb/science/how-to-convert-raw-values-to-voltage \n",
    "    # Converts an array of NeuroSky raw values into an array of millivolts \n",
    "    return (np.array(np.array(raw_values) * (1.8/4096)) / 2) * 1000\n"
   ]
  },
  {
   "cell_type": "code",
   "execution_count": 98,
   "metadata": {},
   "outputs": [],
   "source": [
    "def getFilteredEEGDataInMicroVolts_fromEEGList(eeg_data):\n",
    "    eeg_data_in_volts = convertRawToMicroVolts(eeg_data)\n",
    "    sig_filt = filt.filter_signal(eeg_data_in_volts, eeg_fs, 'bandpass', f_range, filter_type='iir', butterworth_order=2)\n",
    "    return sig_filt"
   ]
  },
  {
   "cell_type": "code",
   "execution_count": 99,
   "metadata": {},
   "outputs": [],
   "source": [
    "sub_binning=[0.5, 4, 7, 12, 30]\n",
    "sub_intervals = getIntervals(sub_binning)"
   ]
  },
  {
   "cell_type": "code",
   "execution_count": 187,
   "metadata": {},
   "outputs": [],
   "source": [
    "trial1Power, _, _ = getMarkerBoundSingleMarkerData('NewImageStart', 'NewImageEnd', XDF_Data1, go_backward=False)\n",
    "trial2Power, _, _ = getMarkerBoundSingleMarkerData('NewImageStart', 'NewImageEnd', XDF_Data2, go_backward=False)\n",
    "\n"
   ]
  },
  {
   "cell_type": "code",
   "execution_count": 102,
   "metadata": {},
   "outputs": [],
   "source": [
    "eeg_fs = getEEGfs(XDF_Data1) \n",
    "f_range = (0.5, 50)"
   ]
  },
  {
   "cell_type": "code",
   "execution_count": 122,
   "metadata": {},
   "outputs": [
    {
     "name": "stderr",
     "output_type": "stream",
     "text": [
      "/Users/Alvin/anaconda3/lib/python3.7/site-packages/neurodsp/filt/filter.py:86: UserWarning: Edge artifacts are not removed when using an IIR filter.\n",
      "  warn('Edge artifacts are not removed when using an IIR filter.')\n",
      "/Users/Alvin/anaconda3/lib/python3.7/site-packages/neurodsp/filt/iir.py:136: UserWarning: IIR filters are not recommended other than for notch filters.\n",
      "  warn('IIR filters are not recommended other than for notch filters.')\n",
      "/Users/Alvin/anaconda3/lib/python3.7/site-packages/neurodsp/filt/utils.py:65: RuntimeWarning: divide by zero encountered in log10\n",
      "  db = 20 * np.log10(abs(h_vals))\n"
     ]
    }
   ],
   "source": [
    "face_eeg = []\n",
    "landscape_eeg = []\n",
    "fidx = 0\n",
    "lidx = 0\n",
    "fdic = {}\n",
    "ldic = {}\n",
    "for trial in trial1Power:\n",
    "    eeg_data_in_volts = getEEGDataInMicroVolts(trial)\n",
    "    avgs = np.mean(trial.get('eeg').get('data'),axis = 0)\n",
    "    #print(avgs)\n",
    "    if 'Face' in trial[StreamType.MARKER.value][StreamType.DATA.value]: \n",
    "        fdic[fidx] = avgs\n",
    "        face_eeg.append(eeg_data_in_volts)\n",
    "        fidx +=1\n",
    "    else :\n",
    "        ldic[lidx] = avgs\n",
    "        landscape_eeg.append(eeg_data_in_volts)\n",
    "        lidx += 1"
   ]
  },
  {
   "cell_type": "code",
   "execution_count": 189,
   "metadata": {},
   "outputs": [
    {
     "name": "stderr",
     "output_type": "stream",
     "text": [
      "/Users/Alvin/anaconda3/lib/python3.7/site-packages/neurodsp/filt/filter.py:86: UserWarning: Edge artifacts are not removed when using an IIR filter.\n",
      "  warn('Edge artifacts are not removed when using an IIR filter.')\n",
      "/Users/Alvin/anaconda3/lib/python3.7/site-packages/neurodsp/filt/iir.py:136: UserWarning: IIR filters are not recommended other than for notch filters.\n",
      "  warn('IIR filters are not recommended other than for notch filters.')\n",
      "/Users/Alvin/anaconda3/lib/python3.7/site-packages/neurodsp/filt/utils.py:65: RuntimeWarning: divide by zero encountered in log10\n",
      "  db = 20 * np.log10(abs(h_vals))\n"
     ]
    }
   ],
   "source": [
    "face_eeg2 = []\n",
    "landscape_eeg2 = []\n",
    "fidx2 = 0\n",
    "lidx2 = 0\n",
    "fdic2 = {}\n",
    "ldic2 = {}\n",
    "for trial in trial2Power:\n",
    "    eeg_data_in_volts = getEEGDataInMicroVolts(trial)\n",
    "    avgs = np.mean(trial.get('eeg').get('data'),axis = 0)\n",
    "    #print(avgs)\n",
    "    if 'Face' in trial[StreamType.MARKER.value][StreamType.DATA.value]: \n",
    "        fdic2[fidx2] = avgs\n",
    "        face_eeg2.append(eeg_data_in_volts)\n",
    "        fidx2 +=1\n",
    "    else :\n",
    "        ldic2[lidx2] = avgs\n",
    "        landscape_eeg2.append(eeg_data_in_volts)\n",
    "        lidx2 += 1"
   ]
  },
  {
   "cell_type": "code",
   "execution_count": null,
   "metadata": {},
   "outputs": [],
   "source": []
  },
  {
   "cell_type": "code",
   "execution_count": 133,
   "metadata": {},
   "outputs": [],
   "source": [
    "power_ratio_landscape = [getPowerRatio(data[:], sub_binning) for data in landscape_eeg]"
   ]
  },
  {
   "cell_type": "code",
   "execution_count": 152,
   "metadata": {},
   "outputs": [],
   "source": [
    "power_ratio_face = [getPowerRatio(data[:], sub_binning) for data in face_eeg]"
   ]
  },
  {
   "cell_type": "code",
   "execution_count": 135,
   "metadata": {},
   "outputs": [],
   "source": [
    "power_ratio_landscape = [(0, np.append(power_ratio_landscape[i],ldic[i])) for i in range(len(power_ratio_landscape))]\n"
   ]
  },
  {
   "cell_type": "code",
   "execution_count": 153,
   "metadata": {},
   "outputs": [],
   "source": [
    "power_ratio_face = [(1, np.append(power_ratio_face[i],fdic[i])) for i in range(len(power_ratio_face))]"
   ]
  },
  {
   "cell_type": "code",
   "execution_count": 190,
   "metadata": {},
   "outputs": [],
   "source": [
    "power_ratio_landscape2 = [getPowerRatio(data[:], sub_binning) for data in landscape_eeg2]\n",
    "power_ratio_landscape2 = [(0, data) for data in power_ratio_landscape2]\n",
    "\n",
    "power_ratio_face2 = [getPowerRatio(data[:], sub_binning) for data in face_eeg2]\n",
    "power_ratio_face2 = [(1, data) for data in power_ratio_face2]"
   ]
  },
  {
   "cell_type": "code",
   "execution_count": 155,
   "metadata": {},
   "outputs": [],
   "source": [
    "power_ratio = power_ratio_face + power_ratio_landscape"
   ]
  },
  {
   "cell_type": "code",
   "execution_count": 191,
   "metadata": {},
   "outputs": [],
   "source": [
    "power_ratio2 = power_ratio_face2 + power_ratio_landscape2"
   ]
  },
  {
   "cell_type": "code",
   "execution_count": 157,
   "metadata": {},
   "outputs": [],
   "source": [
    "yVars = []\n",
    "XVars = []\n",
    "for i in power_ratio:\n",
    "    XVars.append(i[1])\n",
    "    yVars.append(i[0])"
   ]
  },
  {
   "cell_type": "code",
   "execution_count": 196,
   "metadata": {},
   "outputs": [],
   "source": [
    "yVars2 = []\n",
    "XVars2 = []\n",
    "for i in power_ratio2:\n",
    "    XVars2.append(i[1])\n",
    "    yVars2.append(i[0])"
   ]
  },
  {
   "cell_type": "code",
   "execution_count": 158,
   "metadata": {},
   "outputs": [],
   "source": [
    "from sklearn.model_selection import train_test_split"
   ]
  },
  {
   "cell_type": "code",
   "execution_count": 197,
   "metadata": {},
   "outputs": [],
   "source": [
    "X_train2, X_test2, y_train2, y_test2 = train_test_split(XVars2, yVars2, test_size=0.20, random_state=42)"
   ]
  },
  {
   "cell_type": "code",
   "execution_count": 165,
   "metadata": {},
   "outputs": [],
   "source": [
    "X_train, X_test, y_train, y_test = train_test_split(XVars, yVars, test_size=0.20, random_state=42)"
   ]
  },
  {
   "cell_type": "code",
   "execution_count": 166,
   "metadata": {},
   "outputs": [
    {
     "name": "stderr",
     "output_type": "stream",
     "text": [
      "/Users/Alvin/anaconda3/lib/python3.7/site-packages/sklearn/discriminant_analysis.py:388: UserWarning: Variables are collinear.\n",
      "  warnings.warn(\"Variables are collinear.\")\n"
     ]
    },
    {
     "data": {
      "text/plain": [
       "LinearDiscriminantAnalysis(n_components=None, priors=None, shrinkage=None,\n",
       "              solver='svd', store_covariance=False, tol=0.0001)"
      ]
     },
     "execution_count": 166,
     "metadata": {},
     "output_type": "execute_result"
    }
   ],
   "source": [
    "model.fit(X_train, y_train)"
   ]
  },
  {
   "cell_type": "code",
   "execution_count": 167,
   "metadata": {},
   "outputs": [
    {
     "data": {
      "text/plain": [
       "0.7142857142857143"
      ]
     },
     "execution_count": 167,
     "metadata": {},
     "output_type": "execute_result"
    }
   ],
   "source": [
    "accuracy_score(y_test, model.predict(X_test))"
   ]
  },
  {
   "cell_type": "code",
   "execution_count": 198,
   "metadata": {},
   "outputs": [
    {
     "name": "stderr",
     "output_type": "stream",
     "text": [
      "/Users/Alvin/anaconda3/lib/python3.7/site-packages/sklearn/discriminant_analysis.py:388: UserWarning: Variables are collinear.\n",
      "  warnings.warn(\"Variables are collinear.\")\n"
     ]
    },
    {
     "data": {
      "text/plain": [
       "0.6964285714285714"
      ]
     },
     "execution_count": 198,
     "metadata": {},
     "output_type": "execute_result"
    }
   ],
   "source": [
    "model.fit(X_train2, y_train2)\n",
    "accuracy_score(y_test2, model.predict(X_test2))"
   ]
  },
  {
   "cell_type": "code",
   "execution_count": null,
   "metadata": {},
   "outputs": [],
   "source": [
    "#average is around 70%"
   ]
  },
  {
   "cell_type": "code",
   "execution_count": 168,
   "metadata": {},
   "outputs": [],
   "source": [
    "##WITHOUT AVGS"
   ]
  },
  {
   "cell_type": "code",
   "execution_count": 180,
   "metadata": {},
   "outputs": [],
   "source": [
    "power_ratio_landscape = [getPowerRatio(data[:], sub_binning) for data in landscape_eeg]\n",
    "power_ratio_landscape = [(0, data) for data in power_ratio_landscape]\n"
   ]
  },
  {
   "cell_type": "code",
   "execution_count": 181,
   "metadata": {},
   "outputs": [],
   "source": [
    "power_ratio_face = [getPowerRatio(data[:], sub_binning) for data in face_eeg]\n",
    "power_ratio_face = [(1, data) for data in power_ratio_face]\n"
   ]
  },
  {
   "cell_type": "code",
   "execution_count": 182,
   "metadata": {},
   "outputs": [],
   "source": [
    "power_ratio = power_ratio_face + power_ratio_landscape"
   ]
  },
  {
   "cell_type": "code",
   "execution_count": 183,
   "metadata": {},
   "outputs": [
    {
     "data": {
      "text/plain": [
       "280"
      ]
     },
     "execution_count": 183,
     "metadata": {},
     "output_type": "execute_result"
    }
   ],
   "source": [
    "len(power_ratio)"
   ]
  },
  {
   "cell_type": "code",
   "execution_count": 184,
   "metadata": {},
   "outputs": [],
   "source": [
    "yVars = []\n",
    "XVars = []\n",
    "for i in power_ratio:\n",
    "    XVars.append(i[1])\n",
    "    yVars.append(i[0])\n",
    "    \n",
    "X_train, X_test, y_train, y_test = train_test_split(XVars, yVars, test_size=0.20, random_state=42)"
   ]
  },
  {
   "cell_type": "code",
   "execution_count": 185,
   "metadata": {},
   "outputs": [
    {
     "name": "stderr",
     "output_type": "stream",
     "text": [
      "/Users/Alvin/anaconda3/lib/python3.7/site-packages/sklearn/discriminant_analysis.py:388: UserWarning: Variables are collinear.\n",
      "  warnings.warn(\"Variables are collinear.\")\n"
     ]
    },
    {
     "data": {
      "text/plain": [
       "LinearDiscriminantAnalysis(n_components=None, priors=None, shrinkage=None,\n",
       "              solver='svd', store_covariance=False, tol=0.0001)"
      ]
     },
     "execution_count": 185,
     "metadata": {},
     "output_type": "execute_result"
    }
   ],
   "source": [
    "model.fit(X_train, y_train)"
   ]
  },
  {
   "cell_type": "code",
   "execution_count": 186,
   "metadata": {},
   "outputs": [
    {
     "data": {
      "text/plain": [
       "0.6964285714285714"
      ]
     },
     "execution_count": 186,
     "metadata": {},
     "output_type": "execute_result"
    }
   ],
   "source": [
    "accuracy_score(y_test, model.predict(X_test))"
   ]
  },
  {
   "cell_type": "code",
   "execution_count": 192,
   "metadata": {},
   "outputs": [],
   "source": [
    "#ACROSS TRIALS:\n"
   ]
  },
  {
   "cell_type": "code",
   "execution_count": 193,
   "metadata": {},
   "outputs": [],
   "source": [
    "acrossRatios = power_ratio + power_ratio2\n",
    "yVars = []\n",
    "XVars = []\n",
    "for i in power_ratio:\n",
    "    XVars.append(i[1])\n",
    "    yVars.append(i[0])\n",
    "    \n",
    "X_train, X_test, y_train, y_test = train_test_split(XVars, yVars, test_size=0.20, random_state=42)"
   ]
  },
  {
   "cell_type": "code",
   "execution_count": 194,
   "metadata": {},
   "outputs": [
    {
     "name": "stderr",
     "output_type": "stream",
     "text": [
      "/Users/Alvin/anaconda3/lib/python3.7/site-packages/sklearn/discriminant_analysis.py:388: UserWarning: Variables are collinear.\n",
      "  warnings.warn(\"Variables are collinear.\")\n"
     ]
    },
    {
     "data": {
      "text/plain": [
       "LinearDiscriminantAnalysis(n_components=None, priors=None, shrinkage=None,\n",
       "              solver='svd', store_covariance=False, tol=0.0001)"
      ]
     },
     "execution_count": 194,
     "metadata": {},
     "output_type": "execute_result"
    }
   ],
   "source": [
    "model.fit(X_train, y_train)"
   ]
  },
  {
   "cell_type": "code",
   "execution_count": 195,
   "metadata": {},
   "outputs": [
    {
     "data": {
      "text/plain": [
       "0.6964285714285714"
      ]
     },
     "execution_count": 195,
     "metadata": {},
     "output_type": "execute_result"
    }
   ],
   "source": [
    "accuracy_score(y_test, model.predict(X_test))"
   ]
  },
  {
   "cell_type": "code",
   "execution_count": null,
   "metadata": {},
   "outputs": [],
   "source": []
  }
 ],
 "metadata": {
  "kernelspec": {
   "display_name": "Python 3",
   "language": "python",
   "name": "python3"
  },
  "language_info": {
   "codemirror_mode": {
    "name": "ipython",
    "version": 3
   },
   "file_extension": ".py",
   "mimetype": "text/x-python",
   "name": "python",
   "nbconvert_exporter": "python",
   "pygments_lexer": "ipython3",
   "version": "3.6.8"
  }
 },
 "nbformat": 4,
 "nbformat_minor": 2
}
